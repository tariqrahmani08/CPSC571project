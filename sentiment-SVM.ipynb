{
 "cells": [
  {
   "cell_type": "code",
   "execution_count": 2,
   "metadata": {},
   "outputs": [],
   "source": [
    "%matplotlib inline\n",
    "import utils\n",
    "import importlib\n",
    "importlib.reload(utils)\n",
    "from utils import *"
   ]
  },
  {
   "cell_type": "code",
   "execution_count": 3,
   "metadata": {},
   "outputs": [],
   "source": [
    "import re, string, collections, pickle, os\n",
    "from sklearn.model_selection import train_test_split\n",
    "from sklearn.feature_extraction.text import CountVectorizer, TfidfVectorizer\n",
    "from sklearn.linear_model import LogisticRegression\n",
    "from sklearn.decomposition import TruncatedSVD, PCA\n",
    "from sklearn.metrics import confusion_matrix, roc_auc_score, recall_score, precision_score, accuracy_score, f1_score"
   ]
  },
  {
   "cell_type": "code",
   "execution_count": 4,
   "metadata": {},
   "outputs": [],
   "source": [
    "df = pd.read_csv('apple_reddit_merged.csv')"
   ]
  },
  {
   "cell_type": "code",
   "execution_count": 5,
   "metadata": {},
   "outputs": [
    {
     "data": {
      "text/plain": [
       "(2693, 5)"
      ]
     },
     "execution_count": 5,
     "metadata": {},
     "output_type": "execute_result"
    }
   ],
   "source": [
    "df.shape"
   ]
  },
  {
   "cell_type": "markdown",
   "metadata": {},
   "source": [
    "The objective of this notebook is to train a sentiment analysis classifier given the games reviews in the dataset. The model must classify text reviews in positive or negative"
   ]
  },
  {
   "cell_type": "code",
   "execution_count": 5,
   "metadata": {},
   "outputs": [
    {
     "data": {
      "text/html": [
       "<div>\n",
       "<style scoped>\n",
       "    .dataframe tbody tr th:only-of-type {\n",
       "        vertical-align: middle;\n",
       "    }\n",
       "\n",
       "    .dataframe tbody tr th {\n",
       "        vertical-align: top;\n",
       "    }\n",
       "\n",
       "    .dataframe thead th {\n",
       "        text-align: right;\n",
       "    }\n",
       "</style>\n",
       "<table border=\"1\" class=\"dataframe\">\n",
       "  <thead>\n",
       "    <tr style=\"text-align: right;\">\n",
       "      <th></th>\n",
       "      <th>text</th>\n",
       "      <th>Date</th>\n",
       "      <th>Open</th>\n",
       "      <th>Close</th>\n",
       "      <th>value</th>\n",
       "    </tr>\n",
       "  </thead>\n",
       "  <tbody>\n",
       "    <tr>\n",
       "      <th>0</th>\n",
       "      <td>No, Apple Does Not Help the NSA Hack iPhones</td>\n",
       "      <td>12/31/2013</td>\n",
       "      <td>73.398</td>\n",
       "      <td>74.303</td>\n",
       "      <td>1</td>\n",
       "    </tr>\n",
       "    <tr>\n",
       "      <th>1</th>\n",
       "      <td>Apple Denies Working With NSA On iPhone Backdoor</td>\n",
       "      <td>12/31/2013</td>\n",
       "      <td>73.398</td>\n",
       "      <td>74.303</td>\n",
       "      <td>1</td>\n",
       "    </tr>\n",
       "    <tr>\n",
       "      <th>2</th>\n",
       "      <td>A new operating system tool for the iPhone – “...</td>\n",
       "      <td>1/2/2014</td>\n",
       "      <td>73.596</td>\n",
       "      <td>73.259</td>\n",
       "      <td>-1</td>\n",
       "    </tr>\n",
       "    <tr>\n",
       "      <th>3</th>\n",
       "      <td>Apple negirao kontakte sa američkim tajnim slu...</td>\n",
       "      <td>1/2/2014</td>\n",
       "      <td>73.596</td>\n",
       "      <td>73.259</td>\n",
       "      <td>-1</td>\n",
       "    </tr>\n",
       "    <tr>\n",
       "      <th>4</th>\n",
       "      <td>NSA Backdoor in Apple Iphone , Ipad and other ...</td>\n",
       "      <td>1/2/2014</td>\n",
       "      <td>73.596</td>\n",
       "      <td>73.259</td>\n",
       "      <td>-1</td>\n",
       "    </tr>\n",
       "  </tbody>\n",
       "</table>\n",
       "</div>"
      ],
      "text/plain": [
       "                                                text        Date    Open  \\\n",
       "0       No, Apple Does Not Help the NSA Hack iPhones  12/31/2013  73.398   \n",
       "1   Apple Denies Working With NSA On iPhone Backdoor  12/31/2013  73.398   \n",
       "2  A new operating system tool for the iPhone – “...    1/2/2014  73.596   \n",
       "3  Apple negirao kontakte sa američkim tajnim slu...    1/2/2014  73.596   \n",
       "4  NSA Backdoor in Apple Iphone , Ipad and other ...    1/2/2014  73.596   \n",
       "\n",
       "    Close  value  \n",
       "0  74.303      1  \n",
       "1  74.303      1  \n",
       "2  73.259     -1  \n",
       "3  73.259     -1  \n",
       "4  73.259     -1  "
      ]
     },
     "execution_count": 5,
     "metadata": {},
     "output_type": "execute_result"
    }
   ],
   "source": [
    "df.head()"
   ]
  },
  {
   "cell_type": "markdown",
   "metadata": {},
   "source": [
    "Let's keep just text and score columns"
   ]
  },
  {
   "cell_type": "code",
   "execution_count": 5,
   "metadata": {},
   "outputs": [],
   "source": [
    "df = df[['text', 'value']]"
   ]
  },
  {
   "cell_type": "code",
   "execution_count": 7,
   "metadata": {},
   "outputs": [
    {
     "data": {
      "text/html": [
       "<div>\n",
       "<style scoped>\n",
       "    .dataframe tbody tr th:only-of-type {\n",
       "        vertical-align: middle;\n",
       "    }\n",
       "\n",
       "    .dataframe tbody tr th {\n",
       "        vertical-align: top;\n",
       "    }\n",
       "\n",
       "    .dataframe thead th {\n",
       "        text-align: right;\n",
       "    }\n",
       "</style>\n",
       "<table border=\"1\" class=\"dataframe\">\n",
       "  <thead>\n",
       "    <tr style=\"text-align: right;\">\n",
       "      <th></th>\n",
       "      <th>text</th>\n",
       "      <th>value</th>\n",
       "    </tr>\n",
       "  </thead>\n",
       "  <tbody>\n",
       "    <tr>\n",
       "      <th>0</th>\n",
       "      <td>No, Apple Does Not Help the NSA Hack iPhones</td>\n",
       "      <td>1</td>\n",
       "    </tr>\n",
       "    <tr>\n",
       "      <th>1</th>\n",
       "      <td>Apple Denies Working With NSA On iPhone Backdoor</td>\n",
       "      <td>1</td>\n",
       "    </tr>\n",
       "    <tr>\n",
       "      <th>2</th>\n",
       "      <td>A new operating system tool for the iPhone – “...</td>\n",
       "      <td>-1</td>\n",
       "    </tr>\n",
       "    <tr>\n",
       "      <th>3</th>\n",
       "      <td>Apple negirao kontakte sa američkim tajnim slu...</td>\n",
       "      <td>-1</td>\n",
       "    </tr>\n",
       "    <tr>\n",
       "      <th>4</th>\n",
       "      <td>NSA Backdoor in Apple Iphone , Ipad and other ...</td>\n",
       "      <td>-1</td>\n",
       "    </tr>\n",
       "  </tbody>\n",
       "</table>\n",
       "</div>"
      ],
      "text/plain": [
       "                                                text  value\n",
       "0       No, Apple Does Not Help the NSA Hack iPhones      1\n",
       "1   Apple Denies Working With NSA On iPhone Backdoor      1\n",
       "2  A new operating system tool for the iPhone – “...     -1\n",
       "3  Apple negirao kontakte sa američkim tajnim slu...     -1\n",
       "4  NSA Backdoor in Apple Iphone , Ipad and other ...     -1"
      ]
     },
     "execution_count": 7,
     "metadata": {},
     "output_type": "execute_result"
    }
   ],
   "source": [
    "df.head()"
   ]
  },
  {
   "cell_type": "code",
   "execution_count": 8,
   "metadata": {},
   "outputs": [
    {
     "name": "stdout",
     "output_type": "stream",
     "text": [
      "positive headlines: 1350\n",
      "negative headlines: 1343\n"
     ]
    }
   ],
   "source": [
    "print(f'positive headlines: {len(df.loc[df[\"value\"] == 1])}')\n",
    "print(f'negative headlines: {len(df.loc[df[\"value\"] == -1])}')"
   ]
  },
  {
   "cell_type": "code",
   "execution_count": 6,
   "metadata": {},
   "outputs": [],
   "source": [
    "pos = df.loc[df['value'] == 1, 'text'].copy().reset_index(drop=True)\n",
    "neg = df.loc[df['value'] == -1, 'text'].copy().reset_index(drop=True)"
   ]
  },
  {
   "cell_type": "code",
   "execution_count": 10,
   "metadata": {},
   "outputs": [
    {
     "data": {
      "text/plain": [
       "(1350, 1343)"
      ]
     },
     "execution_count": 10,
     "metadata": {},
     "output_type": "execute_result"
    }
   ],
   "source": [
    "len(pos), len(neg)"
   ]
  },
  {
   "cell_type": "markdown",
   "metadata": {},
   "source": [
    "Let's print some positive reviews examples"
   ]
  },
  {
   "cell_type": "code",
   "execution_count": 11,
   "metadata": {
    "scrolled": true
   },
   "outputs": [
    {
     "name": "stdout",
     "output_type": "stream",
     "text": [
      "The Only Way Apple Can Save iTunes Is To Bring It To The Web\n",
      "\n",
      "\n",
      "Apple to remove headphone jack from next iPhone\n",
      "\n",
      "\n",
      "Apple Introduces New iPad Smart Case\n",
      "\n",
      "\n",
      "BBC - Apple unveils Watch and new iPhones\n",
      "\n",
      "\n"
     ]
    }
   ],
   "source": [
    "for i in range(4):\n",
    "    print(''.join(pos[np.random.randint(0, len(pos))]))\n",
    "    print('\\n')"
   ]
  },
  {
   "cell_type": "markdown",
   "metadata": {},
   "source": [
    "Let's print some negative reviews examples"
   ]
  },
  {
   "cell_type": "code",
   "execution_count": 12,
   "metadata": {},
   "outputs": [
    {
     "name": "stdout",
     "output_type": "stream",
     "text": [
      "Apple iPhone 6s Plus vs LG G4\n",
      "\n",
      "\n",
      "Spotify vs Apple Music\n",
      "\n",
      "\n",
      "Impervious Apple iPhone 6 Waterproofing Kits\n",
      "\n",
      "\n",
      "Why you pay big bucks for Apple\n",
      "\n",
      "\n"
     ]
    }
   ],
   "source": [
    "for i in range(4):\n",
    "    print(''.join(neg[np.random.randint(0, len(neg))]))\n",
    "    print('\\n')"
   ]
  },
  {
   "cell_type": "markdown",
   "metadata": {},
   "source": [
    "We must add the labels: 0 for negative reviews, 1 for positive reviews"
   ]
  },
  {
   "cell_type": "code",
   "execution_count": 7,
   "metadata": {},
   "outputs": [],
   "source": [
    "neg = pd.concat([pd.DataFrame(neg), pd.DataFrame(np.zeros(neg.shape), columns=['class'])], 1)\n",
    "pos = pd.concat([pd.DataFrame(pos), pd.DataFrame(np.ones(pos.shape), columns=['class'])], 1)"
   ]
  },
  {
   "cell_type": "markdown",
   "metadata": {},
   "source": [
    "Mean, standard deviation and max length of negative reviews"
   ]
  },
  {
   "cell_type": "code",
   "execution_count": 14,
   "metadata": {},
   "outputs": [
    {
     "data": {
      "text/html": [
       "<div>\n",
       "<style scoped>\n",
       "    .dataframe tbody tr th:only-of-type {\n",
       "        vertical-align: middle;\n",
       "    }\n",
       "\n",
       "    .dataframe tbody tr th {\n",
       "        vertical-align: top;\n",
       "    }\n",
       "\n",
       "    .dataframe thead th {\n",
       "        text-align: right;\n",
       "    }\n",
       "</style>\n",
       "<table border=\"1\" class=\"dataframe\">\n",
       "  <thead>\n",
       "    <tr style=\"text-align: right;\">\n",
       "      <th></th>\n",
       "      <th>text</th>\n",
       "      <th>class</th>\n",
       "    </tr>\n",
       "  </thead>\n",
       "  <tbody>\n",
       "    <tr>\n",
       "      <th>0</th>\n",
       "      <td>No, Apple Does Not Help the NSA Hack iPhones</td>\n",
       "      <td>1.0</td>\n",
       "    </tr>\n",
       "    <tr>\n",
       "      <th>1</th>\n",
       "      <td>Apple Denies Working With NSA On iPhone Backdoor</td>\n",
       "      <td>1.0</td>\n",
       "    </tr>\n",
       "    <tr>\n",
       "      <th>2</th>\n",
       "      <td>A Little Guy Sticks It to Apple and Jamie Dimon</td>\n",
       "      <td>1.0</td>\n",
       "    </tr>\n",
       "    <tr>\n",
       "      <th>3</th>\n",
       "      <td>Apple's new Retail Chief 'may' hint at the com...</td>\n",
       "      <td>1.0</td>\n",
       "    </tr>\n",
       "    <tr>\n",
       "      <th>4</th>\n",
       "      <td>Apple, Amazon downgraded 'on moral and ethical...</td>\n",
       "      <td>1.0</td>\n",
       "    </tr>\n",
       "  </tbody>\n",
       "</table>\n",
       "</div>"
      ],
      "text/plain": [
       "                                                text  class\n",
       "0       No, Apple Does Not Help the NSA Hack iPhones    1.0\n",
       "1   Apple Denies Working With NSA On iPhone Backdoor    1.0\n",
       "2    A Little Guy Sticks It to Apple and Jamie Dimon    1.0\n",
       "3  Apple's new Retail Chief 'may' hint at the com...    1.0\n",
       "4  Apple, Amazon downgraded 'on moral and ethical...    1.0"
      ]
     },
     "execution_count": 14,
     "metadata": {},
     "output_type": "execute_result"
    }
   ],
   "source": [
    "pos.head()"
   ]
  },
  {
   "cell_type": "markdown",
   "metadata": {},
   "source": [
    "Is desirable to have a balanced dataset (similar quantity of positive and negative instances). So we will pick a random subset of the positive instances."
   ]
  },
  {
   "cell_type": "code",
   "execution_count": 8,
   "metadata": {},
   "outputs": [],
   "source": [
    "np.random.seed(42)\n",
    "rand = np.random.permutation(pos.shape[0])\n",
    "pos = pos.iloc[rand[:neg.shape[0]]].reset_index(drop=True)"
   ]
  },
  {
   "cell_type": "code",
   "execution_count": 9,
   "metadata": {},
   "outputs": [
    {
     "data": {
      "text/plain": [
       "((1343, 2), (1343, 2))"
      ]
     },
     "execution_count": 9,
     "metadata": {},
     "output_type": "execute_result"
    }
   ],
   "source": [
    "neg.shape, pos.shape"
   ]
  },
  {
   "cell_type": "markdown",
   "metadata": {},
   "source": [
    "We concatenate positive and negative reviews"
   ]
  },
  {
   "cell_type": "code",
   "execution_count": 10,
   "metadata": {},
   "outputs": [
    {
     "data": {
      "text/html": [
       "<div>\n",
       "<style scoped>\n",
       "    .dataframe tbody tr th:only-of-type {\n",
       "        vertical-align: middle;\n",
       "    }\n",
       "\n",
       "    .dataframe tbody tr th {\n",
       "        vertical-align: top;\n",
       "    }\n",
       "\n",
       "    .dataframe thead th {\n",
       "        text-align: right;\n",
       "    }\n",
       "</style>\n",
       "<table border=\"1\" class=\"dataframe\">\n",
       "  <thead>\n",
       "    <tr style=\"text-align: right;\">\n",
       "      <th></th>\n",
       "      <th>text</th>\n",
       "      <th>class</th>\n",
       "    </tr>\n",
       "  </thead>\n",
       "  <tbody>\n",
       "    <tr>\n",
       "      <th>0</th>\n",
       "      <td>Apple stock Down due to iOS Problems and this ...</td>\n",
       "      <td>0.0</td>\n",
       "    </tr>\n",
       "    <tr>\n",
       "      <th>1</th>\n",
       "      <td>Apple Is Considering Renaming Beats Music</td>\n",
       "      <td>0.0</td>\n",
       "    </tr>\n",
       "    <tr>\n",
       "      <th>2</th>\n",
       "      <td>Apple Stock Robot Review SCAM OR LEGIT?</td>\n",
       "      <td>0.0</td>\n",
       "    </tr>\n",
       "    <tr>\n",
       "      <th>3</th>\n",
       "      <td>Samsung ordered to pay Apple $119.6 million in...</td>\n",
       "      <td>1.0</td>\n",
       "    </tr>\n",
       "    <tr>\n",
       "      <th>4</th>\n",
       "      <td>Apple negirao kontakte sa američkim tajnim slu...</td>\n",
       "      <td>0.0</td>\n",
       "    </tr>\n",
       "  </tbody>\n",
       "</table>\n",
       "</div>"
      ],
      "text/plain": [
       "                                                text  class\n",
       "0  Apple stock Down due to iOS Problems and this ...    0.0\n",
       "1          Apple Is Considering Renaming Beats Music    0.0\n",
       "2            Apple Stock Robot Review SCAM OR LEGIT?    0.0\n",
       "3  Samsung ordered to pay Apple $119.6 million in...    1.0\n",
       "4  Apple negirao kontakte sa američkim tajnim slu...    0.0"
      ]
     },
     "execution_count": 10,
     "metadata": {},
     "output_type": "execute_result"
    }
   ],
   "source": [
    "df = pd.concat([pos, neg]).sample(frac=1).reset_index(drop=True)\n",
    "df.head()"
   ]
  },
  {
   "cell_type": "code",
   "execution_count": 13,
   "metadata": {},
   "outputs": [
    {
     "data": {
      "text/plain": [
       "(2686, 2)"
      ]
     },
     "execution_count": 13,
     "metadata": {},
     "output_type": "execute_result"
    }
   ],
   "source": [
    "df.shape"
   ]
  },
  {
   "cell_type": "markdown",
   "metadata": {
    "collapsed": true
   },
   "source": [
    "Split data into train and test set"
   ]
  },
  {
   "cell_type": "code",
   "execution_count": 11,
   "metadata": {},
   "outputs": [],
   "source": [
    "X_train, X_test, y_train, y_test = train_test_split(df['text'].values, df['class'].values, test_size=0.2, random_state=42)"
   ]
  },
  {
   "cell_type": "code",
   "execution_count": 15,
   "metadata": {},
   "outputs": [
    {
     "data": {
      "text/plain": [
       "(2148, 538, 2148, 538)"
      ]
     },
     "execution_count": 15,
     "metadata": {},
     "output_type": "execute_result"
    }
   ],
   "source": [
    "len(X_train), len(X_test), len(y_train), len(y_test)"
   ]
  },
  {
   "cell_type": "markdown",
   "metadata": {},
   "source": [
    "Defining tokenizer"
   ]
  },
  {
   "cell_type": "code",
   "execution_count": 12,
   "metadata": {},
   "outputs": [],
   "source": [
    "ENGLISH_STOP_WORDS = frozenset([\n",
    "    \"a\", \"about\", \"above\", \"across\", \"after\", \"afterwards\", \"again\", \"against\",\n",
    "    \"all\", \"almost\", \"alone\", \"along\", \"already\", \"also\", \"although\", \"always\",\n",
    "    \"am\", \"among\", \"amongst\", \"amoungst\", \"amount\", \"an\", \"and\", \"another\",\n",
    "    \"any\", \"anyhow\", \"anyone\", \"anything\", \"anyway\", \"anywhere\", \"are\",\n",
    "    \"around\", \"as\", \"at\", \"back\", \"be\", \"became\", \"because\", \"become\",\n",
    "    \"becomes\", \"becoming\", \"been\", \"before\", \"beforehand\", \"behind\", \"being\",\n",
    "    \"below\", \"beside\", \"besides\", \"between\", \"beyond\", \"bill\", \"both\",\n",
    "    \"bottom\", \"but\", \"by\", \"call\", \"can\", \"cannot\", \"cant\", \"co\", \"con\",\n",
    "    \"could\", \"couldnt\", \"cry\", \"de\", \"describe\", \"detail\", \"do\", \"done\",\n",
    "    \"down\", \"due\", \"during\", \"each\", \"eg\", \"eight\", \"either\", \"eleven\", \"else\",\n",
    "    \"elsewhere\", \"empty\", \"enough\", \"etc\", \"even\", \"ever\", \"every\", \"everyone\",\n",
    "    \"everything\", \"everywhere\", \"except\", \"few\", \"fifteen\", \"fifty\", \"fill\",\n",
    "    \"find\", \"fire\", \"first\", \"five\", \"for\", \"former\", \"formerly\", \"forty\",\n",
    "    \"found\", \"four\", \"from\", \"front\", \"full\", \"further\", \"get\", \"give\", \"go\",\n",
    "    \"had\", \"has\", \"hasnt\", \"have\", \"he\", \"hence\", \"her\", \"here\", \"hereafter\",\n",
    "    \"hereby\", \"herein\", \"hereupon\", \"hers\", \"herself\", \"him\", \"himself\", \"his\",\n",
    "    \"how\", \"however\", \"hundred\", \"i\", \"ie\", \"if\", \"in\", \"inc\", \"indeed\",\n",
    "    \"interest\", \"into\", \"is\", \"it\", \"its\", \"itself\", \"keep\", \"last\", \"latter\",\n",
    "    \"latterly\", \"least\", \"less\", \"ltd\", \"made\", \"many\", \"may\", \"me\",\n",
    "    \"meanwhile\", \"might\", \"mill\", \"mine\", \"more\", \"moreover\", \"most\", \"mostly\",\n",
    "    \"move\", \"much\", \"must\", \"my\", \"myself\", \"name\", \"namely\", \"neither\",\n",
    "    \"never\", \"nevertheless\", \"next\", \"nine\", \"no\", \"nobody\", \"none\", \"noone\",\n",
    "    \"nor\", \"not\", \"nothing\", \"now\", \"nowhere\", \"of\", \"off\", \"often\", \"on\",\n",
    "    \"once\", \"one\", \"only\", \"onto\", \"or\", \"other\", \"others\", \"otherwise\", \"our\",\n",
    "    \"ours\", \"ourselves\", \"out\", \"over\", \"own\", \"part\", \"per\", \"perhaps\",\n",
    "    \"please\", \"put\", \"rather\", \"re\", \"s\", \"same\", \"see\", \"seem\", \"seemed\",\n",
    "    \"seeming\", \"seems\", \"serious\", \"several\", \"she\", \"should\", \"show\", \"side\",\n",
    "    \"since\", \"sincere\", \"six\", \"sixty\", \"so\", \"some\", \"somehow\", \"someone\",\n",
    "    \"something\", \"sometime\", \"sometimes\", \"somewhere\", \"still\", \"such\",\n",
    "    \"system\", \"take\", \"ten\", \"than\", \"that\", \"the\", \"their\", \"them\",\n",
    "    \"themselves\", \"then\", \"thence\", \"there\", \"thereafter\", \"thereby\",\n",
    "    \"therefore\", \"therein\", \"thereupon\", \"these\", \"they\", \"thick\", \"thin\",\n",
    "    \"third\", \"this\", \"those\", \"though\", \"three\", \"through\", \"throughout\",\n",
    "    \"thru\", \"thus\", \"to\", \"together\", \"too\", \"top\", \"toward\", \"towards\",\n",
    "    \"twelve\", \"twenty\", \"two\", \"un\", \"under\", \"until\", \"up\", \"upon\", \"us\",\n",
    "    \"very\", \"via\", \"was\", \"we\", \"well\", \"were\", \"what\", \"whatever\", \"when\",\n",
    "    \"whence\", \"whenever\", \"where\", \"whereafter\", \"whereas\", \"whereby\",\n",
    "    \"wherein\", \"whereupon\", \"wherever\", \"whether\", \"which\", \"while\", \"whither\",\n",
    "    \"who\", \"whoever\", \"whole\", \"whom\", \"whose\", \"why\", \"will\", \"with\",\n",
    "    \"within\", \"without\", \"would\", \"yet\", \"you\", \"your\", \"yours\", \"yourself\",\n",
    "    \"yourselves\"])"
   ]
  },
  {
   "cell_type": "markdown",
   "metadata": {},
   "source": [
    "Creating bag of words"
   ]
  },
  {
   "cell_type": "code",
   "execution_count": 13,
   "metadata": {},
   "outputs": [],
   "source": [
    "vect = CountVectorizer(strip_accents='unicode', stop_words=ENGLISH_STOP_WORDS, binary=True)"
   ]
  },
  {
   "cell_type": "code",
   "execution_count": 14,
   "metadata": {},
   "outputs": [],
   "source": [
    "tf_train = vect.fit_transform(X_train)\n",
    "tf_test = vect.transform(X_test)"
   ]
  },
  {
   "cell_type": "markdown",
   "metadata": {},
   "source": [
    "Train term frequency contains 32675 documents and 45424 tokens. Each row represents a document and each column how many times that token appears on the document."
   ]
  },
  {
   "cell_type": "code",
   "execution_count": 23,
   "metadata": {},
   "outputs": [
    {
     "data": {
      "text/plain": [
       "<2148x4738 sparse matrix of type '<class 'numpy.int64'>'\n",
       "\twith 16619 stored elements in Compressed Sparse Row format>"
      ]
     },
     "execution_count": 23,
     "metadata": {},
     "output_type": "execute_result"
    }
   ],
   "source": [
    "tf_train"
   ]
  },
  {
   "cell_type": "markdown",
   "metadata": {},
   "source": [
    "For instance, the first document have just 65 of the 45424 possible tokens. That's why the matrix is stored as a sparse matrix."
   ]
  },
  {
   "cell_type": "code",
   "execution_count": 24,
   "metadata": {},
   "outputs": [
    {
     "data": {
      "text/plain": [
       "<1x4738 sparse matrix of type '<class 'numpy.int64'>'\n",
       "\twith 11 stored elements in Compressed Sparse Row format>"
      ]
     },
     "execution_count": 24,
     "metadata": {},
     "output_type": "execute_result"
    }
   ],
   "source": [
    "tf_train[0]"
   ]
  },
  {
   "cell_type": "markdown",
   "metadata": {},
   "source": [
    "Get vocabulary"
   ]
  },
  {
   "cell_type": "code",
   "execution_count": 15,
   "metadata": {},
   "outputs": [
    {
     "data": {
      "text/plain": [
       "4738"
      ]
     },
     "execution_count": 15,
     "metadata": {},
     "output_type": "execute_result"
    }
   ],
   "source": [
    "vocab = vect.get_feature_names()\n",
    "len(vocab)"
   ]
  },
  {
   "cell_type": "code",
   "execution_count": 26,
   "metadata": {},
   "outputs": [
    {
     "data": {
      "text/plain": [
       "['stunning', 'stupid', 'style', 'styled', 'stylish']"
      ]
     },
     "execution_count": 26,
     "metadata": {},
     "output_type": "execute_result"
    }
   ],
   "source": [
    "vocab[4000: 4005]"
   ]
  },
  {
   "cell_type": "code",
   "execution_count": 27,
   "metadata": {},
   "outputs": [
    {
     "data": {
      "text/plain": [
       "'Apple Launches Comprehensive New Siri Website With Categories, Example Requests'"
      ]
     },
     "execution_count": 27,
     "metadata": {},
     "output_type": "execute_result"
    }
   ],
   "source": [
    "X_train[1]"
   ]
  },
  {
   "cell_type": "markdown",
   "metadata": {},
   "source": [
    "First review's tokens"
   ]
  },
  {
   "cell_type": "code",
   "execution_count": 28,
   "metadata": {},
   "outputs": [],
   "source": [
    "w0 = set([o for o in X_train[2].split(' ')])"
   ]
  },
  {
   "cell_type": "code",
   "execution_count": 29,
   "metadata": {},
   "outputs": [
    {
     "data": {
      "text/plain": [
       "{'Apple',\n",
       " 'Big',\n",
       " 'Coast,',\n",
       " 'Duff',\n",
       " 'Goodbye',\n",
       " 'Hello',\n",
       " 'Hilary',\n",
       " 'Says',\n",
       " 'West'}"
      ]
     },
     "execution_count": 29,
     "metadata": {},
     "output_type": "execute_result"
    }
   ],
   "source": [
    "w0"
   ]
  },
  {
   "cell_type": "code",
   "execution_count": 100,
   "metadata": {},
   "outputs": [
    {
     "data": {
      "text/plain": [
       "{'steve': 3959,\n",
       " 'jobs': 2297,\n",
       " 'memorial': 2644,\n",
       " 'russia': 3593,\n",
       " 'torn': 4255,\n",
       " 'apple': 412,\n",
       " 'ceo': 828,\n",
       " 'tim': 4227,\n",
       " 'cook': 1077,\n",
       " 'came': 768,\n",
       " 'gay': 1818,\n",
       " 'launches': 2412,\n",
       " 'comprehensive': 1013,\n",
       " 'new': 2810,\n",
       " 'siri': 3792,\n",
       " 'website': 4548,\n",
       " 'categories': 803,\n",
       " 'example': 1577,\n",
       " 'requests': 3473,\n",
       " 'hilary': 1996,\n",
       " 'duff': 1430,\n",
       " 'says': 3632,\n",
       " 'goodbye': 1866,\n",
       " 'west': 4557,\n",
       " 'coast': 944,\n",
       " 'hello': 1979,\n",
       " 'big': 609,\n",
       " 'patents': 3013,\n",
       " 'tech': 4139,\n",
       " 'checks': 867,\n",
       " 'bank': 537,\n",
       " 'account': 244,\n",
       " 'target': 4116,\n",
       " 'ads': 291,\n",
       " 'watch': 4526,\n",
       " 'sales': 3608,\n",
       " 'drop': 1416,\n",
       " '90': 207,\n",
       " 'percent': 3048,\n",
       " 'opening': 2919,\n",
       " 'week': 4550,\n",
       " 'create': 1122,\n",
       " 'id': 2085,\n",
       " 'using': 4430,\n",
       " 'credit': 1127,\n",
       " 'card': 788,\n",
       " 'impervious': 2115,\n",
       " 'iphone': 2235,\n",
       " 'waterproofing': 4532,\n",
       " 'kits': 2360,\n",
       " 'til': 4226,\n",
       " 'cia': 900,\n",
       " 'tried': 4302,\n",
       " 'years': 4633,\n",
       " 'break': 695,\n",
       " 'gear': 1821,\n",
       " 'phone6': 3066,\n",
       " '6s': 183,\n",
       " '5s': 166,\n",
       " '5c': 160,\n",
       " 'usbケーフルgshine': 4421,\n",
       " 'mfi': 2661,\n",
       " 'ipod': 2240,\n",
       " 'ipad': 2231,\n",
       " '認証': 4736,\n",
       " '丈夫なナイロン編み': 4730,\n",
       " 'ライトニンクusbケーフル': 4727,\n",
       " '3ft': 123,\n",
       " '9m': 218,\n",
       " 'cybersecurity': 1173,\n",
       " 'summit': 4036,\n",
       " 'exposes': 1606,\n",
       " 'silicon': 3780,\n",
       " 'valley': 4439,\n",
       " 'privacy': 3222,\n",
       " 'fears': 1660,\n",
       " 'delivering': 1250,\n",
       " 'blistering': 639,\n",
       " 'critique': 1136,\n",
       " 'faceshift': 1621,\n",
       " 'acquired': 256,\n",
       " 'motion': 2736,\n",
       " 'capture': 784,\n",
       " 'startup': 3940,\n",
       " 'unlock': 4385,\n",
       " 'products': 3241,\n",
       " 'high': 1990,\n",
       " 'risk': 3535,\n",
       " 'hacker': 1918,\n",
       " 'attacks': 474,\n",
       " 'thecelebritycafe': 4188,\n",
       " 'com': 966,\n",
       " 'smartphone': 3830,\n",
       " 'introduction': 2209,\n",
       " 'features': 1663,\n",
       " 'tv': 4339,\n",
       " '2015': 65,\n",
       " 'concept': 1020,\n",
       " 'looks': 2522,\n",
       " 'better': 599,\n",
       " 'real': 3377,\n",
       " 'deal': 1200,\n",
       " 'federal': 1665,\n",
       " 'judge': 2311,\n",
       " 'rebukes': 3385,\n",
       " 'conduct': 1029,\n",
       " 'court': 1106,\n",
       " 'appointed': 422,\n",
       " 'monitor': 2723,\n",
       " 'defends': 1234,\n",
       " '1k': 53,\n",
       " 'hourly': 2054,\n",
       " 'rate': 3363,\n",
       " 'drops': 1420,\n",
       " '400': 126,\n",
       " 'turn': 4335,\n",
       " 'stock': 3962,\n",
       " 'ahead': 319,\n",
       " 'samsung': 3612,\n",
       " 'lg': 2461,\n",
       " 'motorola': 2740,\n",
       " 'htc': 2060,\n",
       " 'smartphones': 3831,\n",
       " 'comscore': 1019,\n",
       " 'proud': 3277,\n",
       " 'workers': 4594,\n",
       " 'designing': 1274,\n",
       " 'electric': 1484,\n",
       " 'car': 785,\n",
       " 'codenamed': 947,\n",
       " 'titan': 4238,\n",
       " 'report': 3463,\n",
       " 'daily': 1181,\n",
       " 'tattoos': 4123,\n",
       " 'affect': 299,\n",
       " 'custom': 1165,\n",
       " 'faces': 1620,\n",
       " 'repair': 3453,\n",
       " 'computers': 1017,\n",
       " 'best': 595,\n",
       " 'way': 4535,\n",
       " 'headquarters': 1961,\n",
       " 'let': 2455,\n",
       " 'inside': 2180,\n",
       " 'flying': 1728,\n",
       " 'saucer': 3624,\n",
       " 'design': 1272,\n",
       " 'office': 2897,\n",
       " 'like': 2473,\n",
       " 'giant': 1841,\n",
       " 'rubik': 3577,\n",
       " 'cube': 1152,\n",
       " '30': 96,\n",
       " 'billion': 614,\n",
       " 'dollars': 1376,\n",
       " 'school': 3641,\n",
       " 'building': 723,\n",
       " 'opened': 2918,\n",
       " 'yesterday': 4634,\n",
       " 'icar': 2081,\n",
       " 'sued': 4023,\n",
       " 'advanced': 294,\n",
       " 'lithium': 2491,\n",
       " 'battery': 557,\n",
       " 'maker': 2579,\n",
       " 'counts': 1105,\n",
       " 'factors': 1627,\n",
       " 'actual': 265,\n",
       " 'mackintosh': 2562,\n",
       " 'observe': 2883,\n",
       " 'addition': 276,\n",
       " 'able': 229,\n",
       " 'news': 2813,\n",
       " 'team': 4133,\n",
       " 'esim': 1552,\n",
       " 'cards': 789,\n",
       " 'whistleblower': 4562,\n",
       " 'gets': 1835,\n",
       " '30m': 102,\n",
       " 'count': 1101,\n",
       " 'personal': 3053,\n",
       " 'cost': 1096,\n",
       " 'day': 1195,\n",
       " 'buy': 747,\n",
       " 'ex': 1574,\n",
       " 'nsa': 2860,\n",
       " 'officer': 2898,\n",
       " 'number': 2864,\n",
       " 'people': 3046,\n",
       " 'visiting': 4484,\n",
       " 'washington': 4523,\n",
       " 'metro': 2660,\n",
       " 'area': 436,\n",
       " 'store': 3970,\n",
       " 'just': 2318,\n",
       " 'tesla': 4173,\n",
       " 'motors': 2741,\n",
       " 'chronicle': 894,\n",
       " 'thinks': 4200,\n",
       " 'wants': 4511,\n",
       " 'aren': 437,\n",
       " 'sure': 4054,\n",
       " 'replaces': 3460,\n",
       " '399': 118,\n",
       " 'foxconn': 1762,\n",
       " 'talks': 4106,\n",
       " 'build': 722,\n",
       " 'plant': 3104,\n",
       " 'india': 2147,\n",
       " 'overall': 2955,\n",
       " 'users': 4428,\n",
       " 'downloaded': 1395,\n",
       " 'u2': 4347,\n",
       " 'songs': 3865,\n",
       " 'innocence': 2173,\n",
       " 'entirety': 1535,\n",
       " 'free': 1771,\n",
       " 'major': 2577,\n",
       " 'companies': 986,\n",
       " 'including': 2136,\n",
       " 'ford': 1746,\n",
       " 'pfizer': 3060,\n",
       " 'formed': 1754,\n",
       " 'lobbying': 2504,\n",
       " 'group': 1899,\n",
       " 'aimed': 324,\n",
       " 'pushing': 3312,\n",
       " 'changes': 841,\n",
       " 'patent': 3011,\n",
       " 'members': 2640,\n",
       " 'congress': 1039,\n",
       " 'proposed': 3264,\n",
       " 'saying': 3631,\n",
       " 'measures': 2631,\n",
       " 'hinder': 1999,\n",
       " 'protection': 3270,\n",
       " 'valuable': 4440,\n",
       " 'inventions': 2211,\n",
       " 'facebook': 1618,\n",
       " 'pay': 3019,\n",
       " 'female': 1673,\n",
       " 'employees': 1503,\n",
       " 'freeze': 1773,\n",
       " 'eggs': 1475,\n",
       " 'ibeacons': 2077,\n",
       " 'technology': 4146,\n",
       " 'purpose': 3308,\n",
       " 'uses': 4429,\n",
       " 'department': 1268,\n",
       " 'justice': 2319,\n",
       " 'employing': 1506,\n",
       " 'writs': 4610,\n",
       " 'act': 260,\n",
       " 'compel': 993,\n",
       " 'bypass': 753,\n",
       " 'encryption': 1514,\n",
       " 'acc': 235,\n",
       " 'aapl': 225,\n",
       " 'amazon': 359,\n",
       " 'ideal': 2089,\n",
       " 'portable': 3153,\n",
       " 'charger': 849,\n",
       " 'comcast': 971,\n",
       " 'blow': 651,\n",
       " 'net': 2804,\n",
       " 'neutrality': 2809,\n",
       " 'men': 2647,\n",
       " 'white': 4563,\n",
       " 'air': 327,\n",
       " 'giveaway': 1849,\n",
       " 'future': 1798,\n",
       " 'medical': 2634,\n",
       " 'research': 3476,\n",
       " 'kit': 2359,\n",
       " 'google': 1868,\n",
       " 'study': 3998,\n",
       " 'restores': 3495,\n",
       " 'customers': 1167,\n",
       " 'confidence': 1032,\n",
       " 'security': 3670,\n",
       " 'breached': 694,\n",
       " 'celebrity': 815,\n",
       " 'photo': 3069,\n",
       " 'scandal': 3638,\n",
       " 'hbo': 1955,\n",
       " 'price': 3213,\n",
       " 'release': 3433,\n",
       " 'date': 1193,\n",
       " 'revealed': 3512,\n",
       " 'exclusive': 1582,\n",
       " 'launch': 2409,\n",
       " 'partner': 2996,\n",
       " 'support': 4047,\n",
       " 'modify': 2714,\n",
       " 'mua': 2753,\n",
       " 'tai': 4097,\n",
       " 'nghe': 2824,\n",
       " 'bluetooth': 654,\n",
       " 'chuan': 897,\n",
       " 'cho': 884,\n",
       " 'latest': 2407,\n",
       " 'gold': 1863,\n",
       " '128': 15,\n",
       " 'gb': 1820,\n",
       " 'unlocked': 4386,\n",
       " 'online': 2915,\n",
       " 'skype': 3804,\n",
       " 'worldwide': 4599,\n",
       " 'outage': 2944,\n",
       " 'follows': 1735,\n",
       " 'malware': 2589,\n",
       " 'attack': 472,\n",
       " 'exploring': 1605,\n",
       " 'original': 2936,\n",
       " 'programming': 3252,\n",
       " 'compete': 996,\n",
       " 'netflix': 2805,\n",
       " 'preparing': 3202,\n",
       " 'vehicle': 4452,\n",
       " 'shouldn': 3753,\n",
       " 'blank': 633,\n",
       " 'knew': 2364,\n",
       " 'icloud': 2083,\n",
       " 'flaw': 1721,\n",
       " 'months': 2728,\n",
       " 'nude': 2861,\n",
       " 'hack': 1916,\n",
       " '2014': 64,\n",
       " 'summer': 4035,\n",
       " 'internship': 2205,\n",
       " 'opportunities': 2926,\n",
       " 'employers': 1505,\n",
       " 'usa': 4416,\n",
       " 'bosch': 679,\n",
       " 'ebay': 1455,\n",
       " 'ibm': 2078,\n",
       " 'lausd': 2414,\n",
       " 'officials': 2902,\n",
       " 'close': 933,\n",
       " 'ties': 4223,\n",
       " 'pearson': 3031,\n",
       " 'execs': 1585,\n",
       " 'records': 3398,\n",
       " 'professional': 3243,\n",
       " 'reliable': 3437,\n",
       " 'services': 3700,\n",
       " 'houston': 2057,\n",
       " 'time': 4228,\n",
       " 'update': 4401,\n",
       " 'coalition': 943,\n",
       " 'microsoft': 2668,\n",
       " 'presses': 3208,\n",
       " 'patriot': 3015,\n",
       " 'pentagon': 3045,\n",
       " 'teams': 4136,\n",
       " 'boeing': 662,\n",
       " 'develop': 1284,\n",
       " 'wearable': 4543,\n",
       " 'announces': 386,\n",
       " 'march': 2600,\n",
       " 'event': 1567,\n",
       " 'maati': 2556,\n",
       " 'need': 2795,\n",
       " 'know': 2368,\n",
       " 'make': 2578,\n",
       " 'hearing': 1969,\n",
       " 'aids': 322,\n",
       " 'cool': 1080,\n",
       " 'improve': 2123,\n",
       " 'sexual': 3717,\n",
       " 'power': 3174,\n",
       " 'satisfaction': 3620,\n",
       " 'women': 4588,\n",
       " 'cbs': 809,\n",
       " 'nbc': 2789,\n",
       " 'fashion': 1652,\n",
       " 'channel': 843,\n",
       " 'hit': 2012,\n",
       " 'trillion': 4303,\n",
       " 'market': 2604,\n",
       " 'cap': 779,\n",
       " 'year': 4632,\n",
       " 'devices': 1292,\n",
       " 'include': 2133,\n",
       " 'default': 1229,\n",
       " 'kill': 2350,\n",
       " 'switch': 4081,\n",
       " 'music': 2763,\n",
       " 'brings': 707,\n",
       " 'global': 1856,\n",
       " 'strategy': 3978,\n",
       " 'businesses': 741,\n",
       " 'macbook': 2558,\n",
       " 'pro': 3226,\n",
       " '2016': 66,\n",
       " 'cheapest': 863,\n",
       " 'tag': 4095,\n",
       " '899': 205,\n",
       " 'zone': 4647,\n",
       " 'accused': 247,\n",
       " 'lawyers': 2421,\n",
       " 'case': 797,\n",
       " 'deleting': 1243,\n",
       " 'rival': 3539,\n",
       " 'ipods': 2241,\n",
       " 'past': 3007,\n",
       " 'decade': 1211,\n",
       " 'non': 2846,\n",
       " 'itunes': 2262,\n",
       " 'received': 3389,\n",
       " 'message': 2654,\n",
       " 'telling': 4163,\n",
       " 'restore': 3493,\n",
       " 'factory': 1628,\n",
       " 'settings': 3706,\n",
       " 'sync': 4088,\n",
       " 'eric': 1546,\n",
       " 'holder': 2023,\n",
       " 'giving': 1852,\n",
       " 'law': 2415,\n",
       " 'enforcement': 1519,\n",
       " 'access': 238,\n",
       " 'encrypted': 1512,\n",
       " 'data': 1191,\n",
       " 'worrisome': 4602,\n",
       " 'edward': 1466,\n",
       " 'snowden': 3848,\n",
       " 'hero': 1985,\n",
       " 'founder': 1759,\n",
       " 'wozniak': 4608,\n",
       " 'promises': 3256,\n",
       " 'challenges': 838,\n",
       " 'clone': 931,\n",
       " 'getting': 1836,\n",
       " 'feel': 1669,\n",
       " 'a9': 224,\n",
       " 'doubles': 1389,\n",
       " 'door': 1385,\n",
       " 'key': 2329,\n",
       " 'august': 486,\n",
       " 'smart': 3828,\n",
       " 'lock': 2509,\n",
       " 'app': 406,\n",
       " 'deleted': 1241,\n",
       " 'rivals': 3541,\n",
       " 'explains': 1601,\n",
       " 'usb': 4419,\n",
       " 'connector': 1043,\n",
       " 'obsolete': 2885,\n",
       " 'http': 2064,\n",
       " 'www': 4617,\n",
       " 'cultofmac': 1155,\n",
       " '321363': 106,\n",
       " 'computer': 1016,\n",
       " 'things': 4197,\n",
       " 'dji': 1364,\n",
       " 'common': 982,\n",
       " 'installed': 2187,\n",
       " 'backdoors': 521,\n",
       " '600': 170,\n",
       " 'million': 2673,\n",
       " 'iphones': 2238,\n",
       " 'ipads': 2234,\n",
       " 'researcher': 3477,\n",
       " 'apps': 428,\n",
       " 'sells': 3682,\n",
       " '10': 7,\n",
       " 'days': 1196,\n",
       " 'student': 3994,\n",
       " 'allegedly': 345,\n",
       " 'hacks': 1921,\n",
       " 'passbook': 3003,\n",
       " 'flights': 1724,\n",
       " 'paukenschlag': 3017,\n",
       " 'kauft': 2323,\n",
       " 'sony': 3868,\n",
       " 'reveals': 3513,\n",
       " 'ios': 2226,\n",
       " 'crystal': 1149,\n",
       " 'clear': 920,\n",
       " 'silicone': 3781,\n",
       " 'ispeckcase': 2245,\n",
       " 'executive': 1589,\n",
       " 'jailed': 2274,\n",
       " 'fined': 1697,\n",
       " 'selling': 3681,\n",
       " 'secrets': 3667,\n",
       " 'sought': 3871,\n",
       " 'earliest': 1443,\n",
       " 'intercept': 2199,\n",
       " 'confirms': 1035,\n",
       " 'celebrities': 814,\n",
       " 'accounts': 245,\n",
       " 'highly': 1992,\n",
       " 'targeted': 4117,\n",
       " 'buys': 751,\n",
       " 'beats': 565,\n",
       " 'green': 1893,\n",
       " 'mash': 2612,\n",
       " 'ups': 4406,\n",
       " 'zuckerberg': 4651,\n",
       " 'tree': 4291,\n",
       " 'xiaomi': 4621,\n",
       " 'hugo': 2068,\n",
       " 'barra': 543,\n",
       " 'sensational': 3689,\n",
       " 'copycat': 1085,\n",
       " 'claims': 910,\n",
       " 'inspiration': 2184,\n",
       " 'halts': 1928,\n",
       " 'russian': 3594,\n",
       " 'leesentec': 2442,\n",
       " 'リーセンテック': 4728,\n",
       " 'アッフルウォッチ用交換ハント': 4722,\n",
       " '高級ステンレス製': 4737,\n",
       " 'メッシュ': 4726,\n",
       " '腕時計ストラッフ': 4735,\n",
       " 'sportsにも対応': 3906,\n",
       " '接続用アタフタ付属': 4732,\n",
       " 'betting': 600,\n",
       " 'iwatch': 2264,\n",
       " '65': 177,\n",
       " 'orders': 2933,\n",
       " 'q3': 3317,\n",
       " 'featured': 1662,\n",
       " 'stamp': 3927,\n",
       " 'designed': 1273,\n",
       " 'postal': 3165,\n",
       " 'service': 3699,\n",
       " 'wins': 4577,\n",
       " 'galaxy': 1806,\n",
       " 's6': 3595,\n",
       " 'fails': 1633,\n",
       " 'review': 3519,\n",
       " 'specification': 3885,\n",
       " 'continue': 1062,\n",
       " 'evaluating': 1565,\n",
       " 'gt': 1904,\n",
       " 'sapphire': 3618,\n",
       " 'production': 3240,\n",
       " 'progress': 3254,\n",
       " 'enjoying': 1527,\n",
       " 'european': 1562,\n",
       " 'union': 4376,\n",
       " 'contains': 1059,\n",
       " 'carcinogens': 787,\n",
       " 'short': 3750,\n",
       " 'term': 4167,\n",
       " 'reversal': 3516,\n",
       " 'pattern': 3016,\n",
       " 'shares': 3730,\n",
       " 'acknowledges': 251,\n",
       " 'problem': 3228,\n",
       " 'tells': 4164,\n",
       " 'graduating': 1880,\n",
       " 'class': 915,\n",
       " 'fight': 1682,\n",
       " 'injustice': 2172,\n",
       " 'ritina': 3538,\n",
       " 'modal': 2707,\n",
       " '16gb': 34,\n",
       " 'wifi': 4569,\n",
       " '4g': 138,\n",
       " 'sim': 3783,\n",
       " '5month': 164,\n",
       " 'warrnty': 4521,\n",
       " 'reports': 3467,\n",
       " '38': 117,\n",
       " 'rise': 3533,\n",
       " 'profit': 3247,\n",
       " 'surge': 4059,\n",
       " 'glass': 1853,\n",
       " 'panel': 2982,\n",
       " 'shatters': 3733,\n",
       " 'shaking': 3722,\n",
       " 'hackers': 1919,\n",
       " 'stolen': 3965,\n",
       " '225': 75,\n",
       " '000': 0,\n",
       " 'good': 1865,\n",
       " 'nicknamed': 2834,\n",
       " 'keyraider': 2333,\n",
       " 'targets': 4119,\n",
       " 'jailbroken': 2273,\n",
       " 'sold': 3859,\n",
       " 'auction': 479,\n",
       " '365': 112,\n",
       " 'dark': 1188,\n",
       " 'night': 2837,\n",
       " 'eddy': 1462,\n",
       " 'cue': 1153,\n",
       " 'svp': 4072,\n",
       " 'internet': 2204,\n",
       " 'software': 3856,\n",
       " 'product': 3239,\n",
       " 'pipeline': 3090,\n",
       " 'seen': 3675,\n",
       " '25': 81,\n",
       " 'streaming': 3981,\n",
       " 'alerts': 339,\n",
       " 'phones': 3067,\n",
       " 'agrees': 317,\n",
       " 'fine': 1696,\n",
       " 'tax': 4125,\n",
       " 'fraud': 1765,\n",
       " 'investigation': 2215,\n",
       " 'betwen': 601,\n",
       " 'going': 1862,\n",
       " 'bury': 737,\n",
       " 'approved': 425,\n",
       " 'adf': 283,\n",
       " 'plan': 3099,\n",
       " 'buying': 750,\n",
       " 'source': 3873,\n",
       " 'trial': 4296,\n",
       " 'ends': 1517,\n",
       " 'today': 4242,\n",
       " 'benefits': 586,\n",
       " 'health': 1965,\n",
       " 'fitness': 1711,\n",
       " 'solar': 3858,\n",
       " 'farm': 1650,\n",
       " 'california': 762,\n",
       " 'operations': 2923,\n",
       " 'test': 4174,\n",
       " 'model': 2709,\n",
       " 'robbery': 3550,\n",
       " 'kidnapping': 2344,\n",
       " 'cupertino': 1156,\n",
       " 'home': 2032,\n",
       " 'really': 3379,\n",
       " 'making': 2582,\n",
       " 'android': 377,\n",
       " 'university': 4384,\n",
       " 'oklahoma': 2907,\n",
       " 'accept': 236,\n",
       " 'campus': 773,\n",
       " 'upgrade': 4403,\n",
       " 'program': 3249,\n",
       " 'record': 3395,\n",
       " 'fourth': 1760,\n",
       " 'quarter': 3322,\n",
       " 'results': 3498,\n",
       " 'chime': 879,\n",
       " 'chosen': 889,\n",
       " 'whink': 4561,\n",
       " 'intel': 2193,\n",
       " 'racism': 3343,\n",
       " 'black': 628,\n",
       " 'teens': 4150,\n",
       " 'ejected': 1479,\n",
       " 'agreed': 314,\n",
       " 'total': 4259,\n",
       " '324': 107,\n",
       " 'settle': 3707,\n",
       " 'lawsuit': 2418,\n",
       " 'accusing': 248,\n",
       " 'conspiring': 1054,\n",
       " 'hold': 2022,\n",
       " 'salaries': 3606,\n",
       " 'pre': 3188,\n",
       " 'monday': 2720,\n",
       " 'loss': 2532,\n",
       " 'backslides': 524,\n",
       " 'work': 4592,\n",
       " 'hour': 2053,\n",
       " 'limitsa': 2479,\n",
       " 'enormous': 1528,\n",
       " 'saw': 3629,\n",
       " 'compliance': 1011,\n",
       " 'workweek': 4597,\n",
       " 'rules': 3581,\n",
       " 'decrease': 1221,\n",
       " 'bwcweb': 752,\n",
       " 'bits': 626,\n",
       " 'blogs': 648,\n",
       " 'nytimes': 2872,\n",
       " '02': 1,\n",
       " '12': 13,\n",
       " 'limits': 2478,\n",
       " '_r': 220,\n",
       " 'kids': 2347,\n",
       " 'bend': 582,\n",
       " 'stores': 3972,\n",
       " 'jury': 2317,\n",
       " 'returns': 3507,\n",
       " 'mixed': 2692,\n",
       " 'verdict': 4455,\n",
       " 'awards': 513,\n",
       " '119': 12,\n",
       " '6m': 182,\n",
       " 'specialist': 3883,\n",
       " 'jersey': 2289,\n",
       " 'istorenj': 2253,\n",
       " 'itime': 2259,\n",
       " 'smartwatch': 3832,\n",
       " 'gadget': 1801,\n",
       " 'cbse': 810,\n",
       " 'responds': 3488,\n",
       " 'complaining': 1007,\n",
       " 'grade': 1879,\n",
       " 'maths': 2620,\n",
       " 'paper': 2989,\n",
       " 'unapologetically': 4361,\n",
       " 'happy': 1939,\n",
       " 'competition': 1001,\n",
       " '24': 79,\n",
       " 'winning': 4576,\n",
       " 'nfl': 2822,\n",
       " 'effective': 1469,\n",
       " 'newest': 2811,\n",
       " 'style': 4002,\n",
       " 'acquiring': 258,\n",
       " 'bunch': 730,\n",
       " 'worthy': 4605,\n",
       " 'denies': 1265,\n",
       " 'working': 4596,\n",
       " 'surveillance': 4066,\n",
       " 'implant': 2116,\n",
       " 'change': 839,\n",
       " 'breaks': 697,\n",
       " 'q1': 3315,\n",
       " 'costa': 1097,\n",
       " 'mesa': 2653,\n",
       " 'woman': 4587,\n",
       " 'stealing': 3951,\n",
       " '732': 187,\n",
       " 'ditch': 1356,\n",
       " 'processors': 3233,\n",
       " 'use': 4425,\n",
       " 'arm': 442,\n",
       " 'based': 548,\n",
       " '64': 175,\n",
       " 'bit': 624,\n",
       " 'company': 988,\n",
       " '700': 185,\n",
       " 'fortune': 1756,\n",
       " 'itechbee': 2257,\n",
       " 'sell': 3680,\n",
       " 'money': 2721,\n",
       " 'sellsmartforcash': 3683,\n",
       " 'barnstorm': 542,\n",
       " 'evel': 1566,\n",
       " 'knievel': 2365,\n",
       " 'wasn': 4524,\n",
       " 'leak': 2430,\n",
       " 'temporarily': 4165,\n",
       " 'nasdaq': 2781,\n",
       " 'biotechs': 621,\n",
       " 'falls': 1640,\n",
       " 'launching': 2413,\n",
       " 'subscription': 4011,\n",
       " 'reason': 3380,\n",
       " 'official': 2900,\n",
       " 'continuity': 1064,\n",
       " 'competitor': 1003,\n",
       " 'os': 2938,\n",
       " 'released': 3434,\n",
       " 'developers': 1287,\n",
       " 'beta': 596,\n",
       " 'testers': 4175,\n",
       " 'blocks': 646,\n",
       " 'china': 880,\n",
       " 'stop': 3967,\n",
       " 'chromecast': 893,\n",
       " 'implosion': 2119,\n",
       " 'shreds': 3757,\n",
       " '113': 11,\n",
       " '4b': 137,\n",
       " 'fake': 1636,\n",
       " 'caught': 804,\n",
       " 'beijing': 576,\n",
       " 'police': 3134,\n",
       " 'lonely': 2517,\n",
       " 'owners': 2969,\n",
       " 'strangers': 3977,\n",
       " 'heart': 1971,\n",
       " 'reddit': 3405,\n",
       " 'taylor': 4129,\n",
       " 'swift': 4075,\n",
       " '1989': 47,\n",
       " 'world': 4598,\n",
       " 'tour': 4264,\n",
       " 'film': 1690,\n",
       " 'exclusively': 1583,\n",
       " 'prepare': 3201,\n",
       " 'ijacked': 2100,\n",
       " 'hacked': 1917,\n",
       " 'forced': 1743,\n",
       " 'ransom': 3358,\n",
       " 'set': 3704,\n",
       " 'outpace': 2951,\n",
       " 'forbes': 1741,\n",
       " 'fundamental': 1792,\n",
       " 'firm': 1706,\n",
       " 'hires': 2008,\n",
       " 'automotive': 499,\n",
       " 'engineers': 1523,\n",
       " 'live': 2495,\n",
       " 'stream': 3979,\n",
       " 'lawyer': 2420,\n",
       " 'blackberry': 629,\n",
       " 'failed': 1631,\n",
       " 'warning': 4518,\n",
       " 'naked': 2776,\n",
       " 'hacking': 1920,\n",
       " 'blame': 630,\n",
       " 'leaked': 2431,\n",
       " 'photos': 3072,\n",
       " 'techworld': 4147,\n",
       " 'appeals': 409,\n",
       " 'liable': 2463,\n",
       " 'book': 673,\n",
       " 'fixing': 1715,\n",
       " 'ea': 1441,\n",
       " 'games': 1811,\n",
       " 'steal': 3950,\n",
       " 'ids': 2092,\n",
       " 'cyber': 1172,\n",
       " 'kendra': 2326,\n",
       " 'football': 1738,\n",
       " 'apss': 431,\n",
       " 'dude': 1429,\n",
       " 'smile': 3836,\n",
       " 'sexism': 3716,\n",
       " 'keynote': 2332,\n",
       " 'presentation': 3205,\n",
       " 'longer': 2519,\n",
       " 'labels': 2385,\n",
       " 'play': 3110,\n",
       " 'polygon': 3139,\n",
       " 'gives': 1851,\n",
       " 'ultimatum': 4356,\n",
       " 'patch': 3008,\n",
       " 'vulnerabilities': 4496,\n",
       " 'll': 2499,\n",
       " 'public': 3287,\n",
       " 'maps': 2598,\n",
       " 'available': 502,\n",
       " 'io9': 2225,\n",
       " 'maps1': 2599,\n",
       " 'thousand': 4205,\n",
       " 'oaks': 2874,\n",
       " 'leeds': 2441,\n",
       " 'releases': 3435,\n",
       " '99': 214,\n",
       " 'finds': 1695,\n",
       " 'infringed': 2165,\n",
       " 'wisconsin': 4582,\n",
       " 'madison': 2566,\n",
       " 'hefty': 1977,\n",
       " 'damages': 1184,\n",
       " 'conditional': 1027,\n",
       " '450': 130,\n",
       " 'books': 675,\n",
       " 'antitrust': 395,\n",
       " 'accord': 242,\n",
       " 'jimmy': 2295,\n",
       " 'lin': 2480,\n",
       " 'taiwanese': 4098,\n",
       " 'star': 3933,\n",
       " 'district': 1354,\n",
       " 'ditches': 1357,\n",
       " 'curriculum': 1163,\n",
       " 'seeks': 3673,\n",
       " 'refund': 3414,\n",
       " 'rite': 3537,\n",
       " 'aid': 321,\n",
       " 'pulls': 3297,\n",
       " 'ce': 812,\n",
       " 'poceti': 3123,\n",
       " 'sa': 3596,\n",
       " 'zamenom': 4639,\n",
       " 'prodavnici': 3235,\n",
       " 'iphone6': 2236,\n",
       " 'plus': 3118,\n",
       " 'rumors': 3585,\n",
       " 'planning': 3102,\n",
       " 'search': 3657,\n",
       " 'killer': 2351,\n",
       " 'cnbc': 940,\n",
       " 'host': 2049,\n",
       " 'accidentally': 241,\n",
       " 'outs': 2953,\n",
       " 'segment': 3677,\n",
       " 'stories': 3973,\n",
       " 'feature': 1661,\n",
       " 'lets': 2456,\n",
       " 'share': 3727,\n",
       " 'song': 3864,\n",
       " 'clips': 929,\n",
       " 'spotify': 3907,\n",
       " 'times': 4230,\n",
       " 'early': 1444,\n",
       " '905': 209,\n",
       " 'turns': 4337,\n",
       " 'old': 2911,\n",
       " 'worth': 4604,\n",
       " '200k': 60,\n",
       " 'adobe': 288,\n",
       " 'intuit': 2210,\n",
       " 'lucasfilm': 2550,\n",
       " 'disney': 1341,\n",
       " 'pixar': 3096,\n",
       " 'conspired': 1053,\n",
       " 'suppress': 4051,\n",
       " 'wages': 4499,\n",
       " 'bogus': 663,\n",
       " 'giants': 1842,\n",
       " 'say': 3630,\n",
       " 'claiming': 909,\n",
       " 'allegations': 343,\n",
       " 'cold': 954,\n",
       " 'agreements': 316,\n",
       " 'overview': 2964,\n",
       " '2007': 58,\n",
       " 'innovations': 2174,\n",
       " 'led': 2440,\n",
       " 'retail': 3499,\n",
       " 'suppliers': 4046,\n",
       " 'manufacturers': 2596,\n",
       " 'offers': 2896,\n",
       " 'settles': 3709,\n",
       " 'ftc': 1782,\n",
       " 'purchases': 3306,\n",
       " 'offering': 2895,\n",
       " '32': 105,\n",
       " 'refunds': 3415,\n",
       " 'magnificent': 2571,\n",
       " 'handcrafted': 1930,\n",
       " 'precious': 3189,\n",
       " 'jewelry': 2293,\n",
       " 'dre': 1402,\n",
       " 'settlement': 3708,\n",
       " 'bounce': 683,\n",
       " 'announcement': 385,\n",
       " 'routinely': 3572,\n",
       " 'abused': 232,\n",
       " 'exploited': 1603,\n",
       " 'corporate': 1090,\n",
       " 'greed': 1892,\n",
       " 'bbc': 560,\n",
       " 'naturalnews': 2786,\n",
       " 'unable': 4358,\n",
       " 'videos': 4467,\n",
       " 'cheaper': 862,\n",
       " 'istuff': 2254,\n",
       " 'eyes': 1616,\n",
       " 'costs': 1099,\n",
       " 'busting': 743,\n",
       " 'indian': 2148,\n",
       " 'dirty': 1319,\n",
       " 'secret': 3665,\n",
       " 'don': 1382,\n",
       " 'want': 4509,\n",
       " 'did': 1300,\n",
       " 'conspire': 1052,\n",
       " 'inflate': 2159,\n",
       " 'ebook': 1456,\n",
       " 'prices': 3214,\n",
       " 'slammed': 3806,\n",
       " 'supporting': 4048,\n",
       " 'deletes': 1242,\n",
       " 'hundreds': 2071,\n",
       " 'thrive': 4211,\n",
       " 'airstrip': 332,\n",
       " 'differentiate': 1308,\n",
       " 'baby': 519,\n",
       " 'mother': 2735,\n",
       " 'brief': 702,\n",
       " 'showcase': 3754,\n",
       " 'rumor': 3583,\n",
       " 'anti': 391,\n",
       " 'gun': 1910,\n",
       " 'dump': 1432,\n",
       " 'emoji': 1498,\n",
       " 'makes': 2581,\n",
       " 'weeks': 4552,\n",
       " 'entire': 1533,\n",
       " 'recorded': 3396,\n",
       " 'industry': 2155,\n",
       " 'does': 1369,\n",
       " 'unveils': 4399,\n",
       " 'yosemite': 4637,\n",
       " 'admits': 287,\n",
       " 'storing': 3974,\n",
       " 'end': 1515,\n",
       " 'lawsuits': 2419,\n",
       " 'considered': 1047,\n",
       " 'taking': 4103,\n",
       " 'easier': 1449,\n",
       " 'decades': 1212,\n",
       " 'unemployment': 4374,\n",
       " 'fell': 1672,\n",
       " 'state': 3941,\n",
       " 'columbia': 965,\n",
       " 'happened': 1937,\n",
       " '1984': 46,\n",
       " 'unveiling': 4398,\n",
       " 'macintosh': 2561,\n",
       " ...}"
      ]
     },
     "execution_count": 100,
     "metadata": {},
     "output_type": "execute_result"
    }
   ],
   "source": [
    "vect.vocabulary_"
   ]
  },
  {
   "cell_type": "code",
   "execution_count": 37,
   "metadata": {},
   "outputs": [
    {
     "data": {
      "text/plain": [
       "0"
      ]
     },
     "execution_count": 37,
     "metadata": {},
     "output_type": "execute_result"
    }
   ],
   "source": [
    "tf_train[0, 1416]"
   ]
  },
  {
   "cell_type": "markdown",
   "metadata": {},
   "source": [
    "### Multinomial Naive Bayes"
   ]
  },
  {
   "cell_type": "markdown",
   "metadata": {},
   "source": [
    "Here we reduce our training data to 2 dimentions (using TruncatedSVD rather than PCA because we are working with sparse matrices) and then we plot it in order to  roughly see how classes are separated"
   ]
  },
  {
   "cell_type": "code",
   "execution_count": 16,
   "metadata": {},
   "outputs": [],
   "source": [
    "svd = TruncatedSVD()\n",
    "reduced_tf_train = svd.fit_transform(tf_train)"
   ]
  },
  {
   "cell_type": "code",
   "execution_count": 17,
   "metadata": {},
   "outputs": [
    {
     "data": {
      "image/png": "[encoded data removed]",
      "text/plain": [
       "<Figure size 720x720 with 1 Axes>"
      ]
     },
     "metadata": {
      "needs_background": "light"
     },
     "output_type": "display_data"
    }
   ],
   "source": [
    "plot_embeddings(reduced_tf_train, y_train)"
   ]
  },
  {
   "cell_type": "markdown",
   "metadata": {},
   "source": [
    "Use Grid Search to find hyper parametes"
   ]
  },
  {
   "cell_type": "code",
   "execution_count": 18,
   "metadata": {},
   "outputs": [],
   "source": [
    "from sklearn.model_selection import train_test_split, StratifiedKFold, cross_val_score, GridSearchCV\n",
    "from sklearn.pipeline import make_pipeline, Pipeline\n",
    "from sklearn.svm import SVC\n",
    "\n",
    "kfolds = StratifiedKFold(n_splits=5, shuffle=True, random_state=1)"
   ]
  },
  {
   "cell_type": "code",
   "execution_count": 20,
   "metadata": {},
   "outputs": [
    {
     "name": "stdout",
     "output_type": "stream",
     "text": [
      "Fitting 5 folds for each of 3 candidates, totalling 15 fits\n"
     ]
    },
    {
     "name": "stderr",
     "output_type": "stream",
     "text": [
      "[Parallel(n_jobs=-1)]: Using backend LokyBackend with 4 concurrent workers.\n",
      "[Parallel(n_jobs=-1)]: Done  15 out of  15 | elapsed:    6.5s finished\n"
     ]
    },
    {
     "data": {
      "text/plain": [
       "0.5617562917202206"
      ]
     },
     "execution_count": 20,
     "metadata": {},
     "output_type": "execute_result"
    }
   ],
   "source": [
    "np.random.seed(1)\n",
    "\n",
    "pipeline_svm = make_pipeline(vect, SVC(probability=True, kernel=\"linear\", class_weight=\"balanced\"))\n",
    "\n",
    "grid_svm = GridSearchCV(pipeline_svm,\n",
    "                    param_grid = {'svc__C': [0.01, 0.1, 1]}, \n",
    "                    cv = kfolds,\n",
    "                    scoring=\"roc_auc\",\n",
    "                    verbose=1,   \n",
    "                    n_jobs=-1) \n",
    "\n",
    "grid_svm.fit(X_train, y_train)\n",
    "grid_svm.score(X_test, y_test)"
   ]
  },
  {
   "cell_type": "code",
   "execution_count": 25,
   "metadata": {},
   "outputs": [
    {
     "data": {
      "text/plain": [
       "{'svc__C': 1}"
      ]
     },
     "execution_count": 25,
     "metadata": {},
     "output_type": "execute_result"
    }
   ],
   "source": [
    "grid_svm.best_params_"
   ]
  },
  {
   "cell_type": "code",
   "execution_count": 22,
   "metadata": {},
   "outputs": [
    {
     "data": {
      "text/plain": [
       "0.5998182303592605"
      ]
     },
     "execution_count": 22,
     "metadata": {},
     "output_type": "execute_result"
    }
   ],
   "source": [
    "grid_svm.best_score_"
   ]
  },
  {
   "cell_type": "code",
   "execution_count": 26,
   "metadata": {},
   "outputs": [],
   "source": [
    "def report_results(model, X, y):\n",
    "    pred_proba = model.predict_proba(X)[:, 1]\n",
    "    pred = model.predict(X)        \n",
    "\n",
    "    auc = roc_auc_score(y, pred_proba)\n",
    "    acc = accuracy_score(y, pred)\n",
    "    f1 = f1_score(y, pred)\n",
    "    prec = precision_score(y, pred)\n",
    "    rec = recall_score(y, pred)\n",
    "    result = {'auc': auc, 'f1': f1, 'acc': acc, 'precision': prec, 'recall': rec}\n",
    "    return result"
   ]
  },
  {
   "cell_type": "code",
   "execution_count": 27,
   "metadata": {},
   "outputs": [
    {
     "data": {
      "text/plain": [
       "{'acc': 0.5464684014869888,\n",
       " 'auc': 0.5617010102685296,\n",
       " 'f1': 0.5673758865248226,\n",
       " 'precision': 0.5460750853242321,\n",
       " 'recall': 0.5904059040590406}"
      ]
     },
     "execution_count": 27,
     "metadata": {},
     "output_type": "execute_result"
    }
   ],
   "source": [
    "report_results(grid_svm.best_estimator_, X_test, y_test)"
   ]
  },
  {
   "cell_type": "markdown",
   "metadata": {},
   "source": [
    "See how Logistic Regression performs"
   ]
  },
  {
   "cell_type": "code",
   "execution_count": 74,
   "metadata": {},
   "outputs": [
    {
     "name": "stdout",
     "output_type": "stream",
     "text": [
      "Accuracy: 0.5743494423791822\n"
     ]
    },
    {
     "name": "stderr",
     "output_type": "stream",
     "text": [
      "F:\\Documents\\CPSC 571 Project\\venv\\lib\\site-packages\\sklearn\\linear_model\\logistic.py:433: FutureWarning: Default solver will be changed to 'lbfgs' in 0.22. Specify a solver to silence this warning.\n",
      "  FutureWarning)\n"
     ]
    }
   ],
   "source": [
    "model = LogisticRegression(C=0.2, dual=True)\n",
    "model.fit(tf_train, y_train)\n",
    "preds = model.predict(tf_test)\n",
    "acc = (preds==y_test).mean()\n",
    "print(f'Accuracy: {acc}')"
   ]
  },
  {
   "cell_type": "code",
   "execution_count": 105,
   "metadata": {},
   "outputs": [
    {
     "data": {
      "image/png": "[encoded data removed]",
      "text/plain": [
       "<Figure size 576x576 with 2 Axes>"
      ]
     },
     "metadata": {
      "needs_background": "light"
     },
     "output_type": "display_data"
    }
   ],
   "source": [
    "plot_confusion_matrix(confusion_matrix(y_test, preds.T), classes=['Negative', 'Positive'], title='Confusion matrix')"
   ]
  },
  {
   "cell_type": "markdown",
   "metadata": {},
   "source": [
    "Let's plot most relevant words that the algorithm uses to classify a text in positive or negative"
   ]
  },
  {
   "cell_type": "code",
   "execution_count": 56,
   "metadata": {},
   "outputs": [],
   "source": [
    "coef_df = pd.DataFrame({'vocab': vocab, 'coef':model.coef_.reshape(-1)})\n",
    "pos_top10 = coef_df.sort_values('coef', ascending=False).reset_index(drop=True)[:10]\n",
    "neg_top10 = coef_df.sort_values('coef').reset_index(drop=True)[:10]"
   ]
  },
  {
   "cell_type": "code",
   "execution_count": 57,
   "metadata": {},
   "outputs": [
    {
     "data": {
      "image/png": "[encoded data removed]",
      "text/plain": [
       "<Figure size 576x576 with 2 Axes>"
      ]
     },
     "metadata": {
      "needs_background": "light"
     },
     "output_type": "display_data"
    }
   ],
   "source": [
    "fig, axs = plt.subplots(1, 2, figsize=(8, 8))\n",
    "fig.subplots_adjust(wspace=0.8)\n",
    "pos_top10.sort_values('coef').plot.barh(legend=False, ax=axs[0])\n",
    "axs[0].set_yticklabels(pos_top10['vocab'].values.tolist()[::-1])\n",
    "axs[0].set_title('Positive');\n",
    "neg_top10.sort_values('coef', ascending=False).plot.barh(legend=False, ax=axs[1])\n",
    "axs[1].set_yticklabels(neg_top10['vocab'].values.tolist()[::-1])\n",
    "axs[1].set_title('Negative');"
   ]
  },
  {
   "cell_type": "markdown",
   "metadata": {},
   "source": [
    "Removing word from vocabulary"
   ]
  },
  {
   "cell_type": "code",
   "execution_count": 108,
   "metadata": {},
   "outputs": [
    {
     "ename": "KeyError",
     "evalue": "'bethehouse'",
     "output_type": "error",
     "traceback": [
      "\u001b[0;31m---------------------------------------------------------------------------\u001b[0m",
      "\u001b[0;31mKeyError\u001b[0m                                  Traceback (most recent call last)",
      "\u001b[0;32m<ipython-input-108-4bbc6b62fc1c>\u001b[0m in \u001b[0;36m<module>\u001b[0;34m()\u001b[0m\n\u001b[0;32m----> 1\u001b[0;31m \u001b[0mvect\u001b[0m\u001b[0;34m.\u001b[0m\u001b[0mvocabulary_\u001b[0m\u001b[0;34m[\u001b[0m\u001b[0;34m'bethehouse'\u001b[0m\u001b[0;34m]\u001b[0m\u001b[0;34m\u001b[0m\u001b[0;34m\u001b[0m\u001b[0m\n\u001b[0m",
      "\u001b[0;31mKeyError\u001b[0m: 'bethehouse'"
     ]
    }
   ],
   "source": [
    "vect.vocabulary_['bethehouse']"
   ]
  },
  {
   "cell_type": "code",
   "execution_count": 48,
   "metadata": {},
   "outputs": [],
   "source": [
    "tf_train = lil2(tf_train)\n",
    "tf_train.removecol(2052)"
   ]
  },
  {
   "cell_type": "code",
   "execution_count": 49,
   "metadata": {},
   "outputs": [],
   "source": [
    "tf_test = lil2(tf_test)\n",
    "tf_test.removecol(2052)"
   ]
  },
  {
   "cell_type": "code",
   "execution_count": 109,
   "metadata": {},
   "outputs": [
    {
     "name": "stdout",
     "output_type": "stream",
     "text": [
      "Accuracy: 0.5743494423791822\n"
     ]
    },
    {
     "name": "stderr",
     "output_type": "stream",
     "text": [
      "F:\\Documents\\CPSC 571 Project\\venv\\lib\\site-packages\\sklearn\\linear_model\\logistic.py:433: FutureWarning: Default solver will be changed to 'lbfgs' in 0.22. Specify a solver to silence this warning.\n",
      "  FutureWarning)\n"
     ]
    }
   ],
   "source": [
    "model = LogisticRegression(C=0.2, dual=True)\n",
    "model.fit(tf_train, y_train)\n",
    "preds = model.predict(tf_test)\n",
    "acc = (preds==y_test).mean()\n",
    "print(f'Accuracy: {acc}')"
   ]
  },
  {
   "cell_type": "markdown",
   "metadata": {},
   "source": [
    "Let's try now with bigram tf-idf rather than unigram tf"
   ]
  },
  {
   "cell_type": "code",
   "execution_count": 64,
   "metadata": {},
   "outputs": [],
   "source": [
    "vect = TfidfVectorizer(strip_accents='unicode', stop_words=ENGLISH_STOP_WORDS, binary=True, ngram_range=(1, 2), max_df=0.9, min_df=3, sublinear_tf=True)"
   ]
  },
  {
   "cell_type": "code",
   "execution_count": 65,
   "metadata": {},
   "outputs": [],
   "source": [
    "tfidf_train = vect.fit_transform(X_train)\n",
    "tfidf_test = vect.transform(X_test)"
   ]
  },
  {
   "cell_type": "markdown",
   "metadata": {},
   "source": [
    "Division between classes is more clear now"
   ]
  },
  {
   "cell_type": "code",
   "execution_count": 66,
   "metadata": {},
   "outputs": [],
   "source": [
    "svd = TruncatedSVD()\n",
    "reduced_tfidf_train = svd.fit_transform(tfidf_train)"
   ]
  },
  {
   "cell_type": "code",
   "execution_count": 67,
   "metadata": {},
   "outputs": [
    {
     "data": {
      "image/png": "[encoded data removed]",
      "text/plain": [
       "<Figure size 720x720 with 1 Axes>"
      ]
     },
     "metadata": {
      "needs_background": "light"
     },
     "output_type": "display_data"
    }
   ],
   "source": [
    "plot_embeddings(reduced_tfidf_train, y_train, 2000)"
   ]
  },
  {
   "cell_type": "code",
   "execution_count": 115,
   "metadata": {},
   "outputs": [
    {
     "data": {
      "text/plain": [
       "0.7686219739292365"
      ]
     },
     "execution_count": 115,
     "metadata": {},
     "output_type": "execute_result"
    }
   ],
   "source": [
    "from sklearn.naive_bayes import BernoulliNB\n",
    "\n",
    "nb = BernoulliNB()\n",
    "\n",
    "nb.fit(tfidf_train, y_train)\n",
    "\n",
    "nb.score(tfidf_train, y_train)"
   ]
  },
  {
   "cell_type": "code",
   "execution_count": 117,
   "metadata": {},
   "outputs": [
    {
     "name": "stdout",
     "output_type": "stream",
     "text": [
      "Accuracy: 57.62%\n",
      "\n",
      "F1 Score: 59.14\n",
      "\n",
      "COnfusion Matrix:\n",
      " [[145 122]\n",
      " [106 165]]\n"
     ]
    }
   ],
   "source": [
    "from sklearn.metrics import accuracy_score, f1_score, confusion_matrix\n",
    "y_pred = nb.predict(tfidf_test)\n",
    "\n",
    "print(\"Accuracy: {:.2f}%\".format(accuracy_score(y_test, y_pred) * 100))\n",
    "print(\"\\nF1 Score: {:.2f}\".format(f1_score(y_test, y_pred) * 100))\n",
    "print(\"\\nCOnfusion Matrix:\\n\", confusion_matrix(y_test, y_pred))"
   ]
  },
  {
   "cell_type": "code",
   "execution_count": 69,
   "metadata": {},
   "outputs": [
    {
     "data": {
      "image/png": "[encoded data removed]",
      "text/plain": [
       "<Figure size 576x576 with 2 Axes>"
      ]
     },
     "metadata": {
      "needs_background": "light"
     },
     "output_type": "display_data"
    }
   ],
   "source": [
    "plot_confusion_matrix(confusion_matrix(y_test, preds.T), classes=['Negative', 'Positive'], title='Confusion matrix')"
   ]
  },
  {
   "cell_type": "markdown",
   "metadata": {},
   "source": [
    "### SVM"
   ]
  },
  {
   "cell_type": "code",
   "execution_count": null,
   "metadata": {},
   "outputs": [],
   "source": []
  },
  {
   "cell_type": "markdown",
   "metadata": {},
   "source": [
    "### CNN"
   ]
  },
  {
   "cell_type": "markdown",
   "metadata": {},
   "source": [
    "We will try now with a simple Convolutional Neural Network"
   ]
  },
  {
   "cell_type": "code",
   "execution_count": 118,
   "metadata": {},
   "outputs": [],
   "source": [
    "from keras.preprocessing.sequence import pad_sequences\n",
    "from keras.models import Sequential, Model\n",
    "from keras.layers.embeddings import Embedding\n",
    "from keras.layers import Flatten, Dense, Dropout, Convolution1D, MaxPooling1D, SpatialDropout1D, Input, concatenate\n",
    "from keras.optimizers import Adam"
   ]
  },
  {
   "cell_type": "markdown",
   "metadata": {},
   "source": [
    "Tokenize reviews"
   ]
  },
  {
   "cell_type": "code",
   "execution_count": 119,
   "metadata": {},
   "outputs": [],
   "source": [
    "re_tok = re.compile(f'([{string.punctuation}“”¨«»®´·º½¾¿¡§£₤‘’])')\n",
    "def tokenize(s): return re_tok.sub(r' \\1 ', s).split()"
   ]
  },
  {
   "cell_type": "code",
   "execution_count": 123,
   "metadata": {},
   "outputs": [],
   "source": [
    "df['tokenized'] = df['text'].apply(tokenize)"
   ]
  },
  {
   "cell_type": "markdown",
   "metadata": {},
   "source": [
    "Get vocabulary"
   ]
  },
  {
   "cell_type": "code",
   "execution_count": 124,
   "metadata": {},
   "outputs": [],
   "source": [
    "def update_vocab_counter(row):\n",
    "    for word in row:\n",
    "        vocab_counter[word] += 1"
   ]
  },
  {
   "cell_type": "code",
   "execution_count": 125,
   "metadata": {},
   "outputs": [],
   "source": [
    "vocab_counter = collections.Counter()\n",
    "df['tokenized'].apply(update_vocab_counter);\n",
    "vocab = sorted(vocab_counter, key=vocab_counter.get, reverse=True)"
   ]
  },
  {
   "cell_type": "code",
   "execution_count": 126,
   "metadata": {},
   "outputs": [
    {
     "data": {
      "text/plain": [
       "7295"
      ]
     },
     "execution_count": 126,
     "metadata": {},
     "output_type": "execute_result"
    }
   ],
   "source": [
    "len(vocab)"
   ]
  },
  {
   "cell_type": "markdown",
   "metadata": {},
   "source": [
    "Word to index dictionary"
   ]
  },
  {
   "cell_type": "code",
   "execution_count": 127,
   "metadata": {},
   "outputs": [],
   "source": [
    "w2id = {w:i for i, w in enumerate(vocab)}"
   ]
  },
  {
   "cell_type": "markdown",
   "metadata": {},
   "source": [
    "Words to index transformation"
   ]
  },
  {
   "cell_type": "code",
   "execution_count": 128,
   "metadata": {},
   "outputs": [],
   "source": [
    "def transform_to_ids(row):\n",
    "    return [w2id[w] for w in row]"
   ]
  },
  {
   "cell_type": "code",
   "execution_count": 129,
   "metadata": {},
   "outputs": [],
   "source": [
    "df['tokenized'] = df['tokenized'].apply(lambda x: transform_to_ids(x))"
   ]
  },
  {
   "cell_type": "code",
   "execution_count": 130,
   "metadata": {},
   "outputs": [],
   "source": [
    "X_train, X_test, y_train, y_test = train_test_split(df['tokenized'].values, df['class'].values, test_size=0.2, random_state=42)"
   ]
  },
  {
   "cell_type": "code",
   "execution_count": 131,
   "metadata": {},
   "outputs": [],
   "source": [
    "maxlen = 1000"
   ]
  },
  {
   "cell_type": "markdown",
   "metadata": {},
   "source": [
    "All the inputs to the conv net must have a fixed size. We set 1000 as the max length and we fill with -1 all reviews smaller than 1000."
   ]
  },
  {
   "cell_type": "code",
   "execution_count": 132,
   "metadata": {},
   "outputs": [],
   "source": [
    "x_train = pad_sequences(X_train, maxlen=maxlen, value=-1)\n",
    "x_test = pad_sequences(X_test, maxlen=maxlen, value=-1)"
   ]
  },
  {
   "cell_type": "code",
   "execution_count": 133,
   "metadata": {},
   "outputs": [],
   "source": [
    "model = Sequential([Embedding(input_dim=len(vocab), output_dim=32, input_length=maxlen),\n",
    "                    SpatialDropout1D(0.2),\n",
    "                    Dropout(0.25),\n",
    "                    Convolution1D(64, 5, padding='same', activation='relu'),\n",
    "                    Dropout(0.25),\n",
    "                    MaxPooling1D(),\n",
    "                    Flatten(),\n",
    "                    Dense(100, activation='relu'),\n",
    "                    Dropout(0.85),\n",
    "                    Dense(1, activation='sigmoid')])\n",
    "\n",
    "model.compile(loss='binary_crossentropy', optimizer=Adam(), metrics=['accuracy'])"
   ]
  },
  {
   "cell_type": "code",
   "execution_count": 134,
   "metadata": {},
   "outputs": [
    {
     "name": "stdout",
     "output_type": "stream",
     "text": [
      "Train on 2148 samples, validate on 538 samples\n",
      "Epoch 1/4\n",
      "2148/2148 [==============================] - 8s 4ms/step - loss: 0.6938 - acc: 0.4972 - val_loss: 0.6932 - val_acc: 0.4981\n",
      "Epoch 2/4\n",
      "2148/2148 [==============================] - 1s 324us/step - loss: 0.6942 - acc: 0.4902 - val_loss: 0.6931 - val_acc: 0.5074\n",
      "Epoch 3/4\n",
      "2148/2148 [==============================] - 1s 315us/step - loss: 0.6913 - acc: 0.5335 - val_loss: 0.6932 - val_acc: 0.5093\n",
      "Epoch 4/4\n",
      "2148/2148 [==============================] - 1s 313us/step - loss: 0.6871 - acc: 0.5512 - val_loss: 0.6919 - val_acc: 0.5019\n"
     ]
    },
    {
     "data": {
      "text/plain": [
       "<keras.callbacks.History at 0x1920a58a320>"
      ]
     },
     "execution_count": 134,
     "metadata": {},
     "output_type": "execute_result"
    }
   ],
   "source": [
    "model.fit(x_train, y_train, validation_data=(x_test, y_test), epochs=4, batch_size=64)"
   ]
  },
  {
   "cell_type": "markdown",
   "metadata": {},
   "source": [
    "Maybe finding best hyperparameters could lead to a better accuracy, but this more complex model is not better than our linear classifier."
   ]
  },
  {
   "cell_type": "code",
   "execution_count": null,
   "metadata": {
    "collapsed": true
   },
   "outputs": [],
   "source": []
  }
 ],
 "metadata": {
  "kernelspec": {
   "display_name": "Python 3",
   "language": "python",
   "name": "python3"
  },
  "language_info": {
   "codemirror_mode": {
    "name": "ipython",
    "version": 3
   },
   "file_extension": ".py",
   "mimetype": "text/x-python",
   "name": "python",
   "nbconvert_exporter": "python",
   "pygments_lexer": "ipython3",
   "version": "3.6.8"
  }
 },
 "nbformat": 4,
 "nbformat_minor": 2
}
